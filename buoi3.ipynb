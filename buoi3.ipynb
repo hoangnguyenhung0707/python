{
 "cells": [
  {
   "cell_type": "code",
   "execution_count": null,
   "id": "e056c8de",
   "metadata": {},
   "outputs": [],
   "source": [
    "n = int(input(\" nhap so nguyen n\"))\n",
    "dao = str(n)[::-1]\n",
    "print(dao)"
   ]
  },
  {
   "cell_type": "code",
   "execution_count": null,
   "id": "26789ace",
   "metadata": {},
   "outputs": [],
   "source": [
    "a, b = map(int, input(\"Nhập a b: \").split())\n",
    "\n",
    "a = a ^ b\n",
    "b = a ^ b\n",
    "a = a ^ b\n",
    "\n",
    "print(a, b)\n"
   ]
  },
  {
   "cell_type": "code",
   "execution_count": null,
   "id": "9023cb52",
   "metadata": {},
   "outputs": [],
   "source": [
    "n = int(input(\"Nhập số nguyên n: \"))\n",
    "if n > 0 and (n & (n - 1)) == 0:\n",
    "    print(True)\n",
    "else:\n",
    "    print(False)\n"
   ]
  },
  {
   "cell_type": "code",
   "execution_count": null,
   "id": "1d407467",
   "metadata": {},
   "outputs": [],
   "source": [
    "m, n=map(int,input(\"nhap so nhguyen m, n\").split())\n",
    "print( m//n)"
   ]
  },
  {
   "cell_type": "code",
   "execution_count": null,
   "id": "de4bfa6c",
   "metadata": {},
   "outputs": [],
   "source": [
    "import math\n",
    "\n",
    "m, n = map(int, input(\"Nhập hai số nguyên m và n: \").split())\n",
    "kq = math.ceil(m / n)\n",
    "print(kq)\n"
   ]
  },
  {
   "cell_type": "code",
   "execution_count": null,
   "id": "7c68b058",
   "metadata": {},
   "outputs": [],
   "source": [
    "a = int(input(\"nhap so nguyen a\"))\n",
    "if a % 2 ==0:\n",
    "    print(\"even\")\n",
    "else:\n",
    "    print(\"odd\")"
   ]
  },
  {
   "cell_type": "code",
   "execution_count": null,
   "id": "1316d472",
   "metadata": {},
   "outputs": [],
   "source": [
    "a = int(input('nhap so nguyen a'))\n",
    "b = int(input('nhap so nguyen b'))\n",
    "if a < 0 and b < 0:\n",
    "    print('yes')\n",
    "else:\n",
    "    print('no')"
   ]
  },
  {
   "cell_type": "code",
   "execution_count": null,
   "id": "63dd1d60",
   "metadata": {},
   "outputs": [],
   "source": [
    "a = input(\"Nhập chuỗi a: \")\n",
    "b = input(\"Nhập chuỗi b: \")\n",
    "\n",
    "if len(a) > len(b):\n",
    "    print(\"True\")\n",
    "else:\n",
    "    print(\"False\")\n"
   ]
  },
  {
   "cell_type": "code",
   "execution_count": null,
   "id": "5b971d20",
   "metadata": {},
   "outputs": [],
   "source": [
    "a = int(input(\"nhap do dai canh 1\"))\n",
    "b = int(input(\"nhap do dai canh 2\"))\n",
    "c = int(input(\"nhap do dai canh 3\"))\n",
    "if a < 0 or b < 0 or c < 0 or (a + b) < c or (a + c) < b or (b + c) < a:\n",
    "    print('no')\n",
    "else:\n",
    "    print('yes')"
   ]
  },
  {
   "cell_type": "code",
   "execution_count": null,
   "id": "d6c8ff03",
   "metadata": {},
   "outputs": [],
   "source": [
    "a = int(input(\"Nhập số thứ nhất: \"))\n",
    "b = int(input(\"Nhập số thứ hai: \"))\n",
    "c = int(input(\"Nhập số thứ ba: \"))\n",
    "d = int(input(\"Nhập số thứ tư: \"))\n",
    "\n",
    "max_num = a\n",
    "\n",
    "if b > max_num:\n",
    "    max_num = b\n",
    "if c > max_num:\n",
    "    max_num = c\n",
    "if d > max_num:\n",
    "    max_num = d\n",
    "\n",
    "print(\"Số lớn nhất là:\", max_num)\n"
   ]
  },
  {
   "cell_type": "code",
   "execution_count": null,
   "id": "883428b8",
   "metadata": {},
   "outputs": [],
   "source": [
    "a = int(input(\"nhap do dai canh 1\"))\n",
    "b = int(input(\"nhap do dai canh 2\"))\n",
    "c = int(input(\"nhap do dai canh 3\"))\n",
    "if a < 0 or b < 0 or c < 0 or (a + b) < c or (a + c) < b or (b + c) < a:\n",
    "    print('khong phai tam giac')\n",
    "elif a == b == c:\n",
    "    print(\"tam giac deu\")\n",
    "elif a == b or a == c or b == c:\n",
    "    print(\"tam giac can\")\n",
    "else:\n",
    "    print(\"tam giac thuong\")"
   ]
  },
  {
   "cell_type": "code",
   "execution_count": null,
   "id": "9073e4c2",
   "metadata": {},
   "outputs": [],
   "source": [
    "nam=int(input(\"nhap nam\"))\n",
    "if nam % 4 == 0 and nam % 100 != 0 or nam % 400 == 0:\n",
    "    print(\"la nam nhuan\")\n",
    "else:\n",
    "    print(\"khong phai nam nhuan\")"
   ]
  },
  {
   "cell_type": "code",
   "execution_count": null,
   "id": "fb535675",
   "metadata": {},
   "outputs": [],
   "source": [
    "tieu_thu=int(input(\"nhap so dien tieu thu\"))\n",
    "if 0 <= tieu_thu <= 50:\n",
    "    print(\"so tien phai tra la \", tieu_thu * 1500)\n",
    "elif 51<=tieu_thu<= 100:\n",
    "    print(\"so tien phai tra la \", 50* 1500 + (tieu_thu-50)* 2000)\n",
    "else:\n",
    "    print('so tien phai tra la ', 50 * 1500 + 50 * 2000 + (tieu_thu-100)* 3000)"
   ]
  },
  {
   "cell_type": "code",
   "execution_count": null,
   "id": "b1f9988e",
   "metadata": {},
   "outputs": [],
   "source": [
    "a = float(input('nhap so a'))\n",
    "b = float(input('nhap so b'))\n",
    "if a == 0 and b == 0:\n",
    "    print(\"vo so nghiem\")\n",
    "elif a == 0 and b != 0:\n",
    "    print(\"vo nghiem\")\n",
    "else:\n",
    "    x = -b/a\n",
    "    print(format(x, \".2f\"))"
   ]
  },
  {
   "cell_type": "code",
   "execution_count": null,
   "id": "26180cbc",
   "metadata": {},
   "outputs": [],
   "source": [
    "diem= float(input(\"nhap diem trung binh\"))\n",
    "if diem >= 8.0:\n",
    "    print(\"gioi\")\n",
    "elif diem >= 6.5:\n",
    "    print(\"kha\")\n",
    "elif diem >= 5.0:\n",
    "    print(\"trung binh\")\n",
    "else:\n",
    "    print(\"yeu\")"
   ]
  },
  {
   "cell_type": "code",
   "execution_count": null,
   "id": "741943c2",
   "metadata": {},
   "outputs": [],
   "source": [
    "x = float(input(\"Nhập số thực x: \"))\n",
    "\n",
    "nguyen = int(x)\n",
    "\n",
    "if x >= 0:\n",
    "    down = nguyen\n",
    "else:\n",
    "    if x != nguyen:\n",
    "        down = nguyen - 1\n",
    "    else:\n",
    "        down = nguyen\n",
    "\n",
    "if x >= 0:\n",
    "    if x != nguyen:\n",
    "        up = nguyen + 1\n",
    "    else:\n",
    "        up = nguyen\n",
    "else:\n",
    "    up = nguyen\n",
    "\n",
    "tp = abs(x - nguyen)\n",
    "if tp >= 0.5:\n",
    "    if x > 0:\n",
    "        nearest = nguyen + 1\n",
    "    else:\n",
    "        nearest = nguyen - 1\n",
    "else:\n",
    "    nearest = nguyen\n",
    "\n",
    "print(up, down, nearest)\n"
   ]
  },
  {
   "cell_type": "code",
   "execution_count": null,
   "id": "1fc274c9",
   "metadata": {},
   "outputs": [],
   "source": [
    "a = int(input(\"nhap do dai canh 1\"))\n",
    "b = int(input(\"nhap do dai canh 2\"))\n",
    "c = int(input(\"nhap do dai canh 3\"))\n",
    "if a < 0 or b < 0 or c < 0 or (a + b) < c or (a + c) < b or (b + c) < a:\n",
    "    print('khong phai tam giac')\n",
    "elif a == b == c:\n",
    "    print(\"tam giac deu\")\n",
    "elif a == b or a == c or b == c:\n",
    "    print(\"tam giac can\")\n",
    "else:\n",
    "    print(\"tam giac thuong\")"
   ]
  }
 ],
 "metadata": {
  "language_info": {
   "name": "python"
  }
 },
 "nbformat": 4,
 "nbformat_minor": 5
}
