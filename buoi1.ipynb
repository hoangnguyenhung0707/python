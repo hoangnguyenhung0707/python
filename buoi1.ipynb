{
 "cells": [
  {
   "cell_type": "code",
   "execution_count": 1,
   "id": "0c578fc1",
   "metadata": {},
   "outputs": [
    {
     "name": "stdout",
     "output_type": "stream",
     "text": [
      "Hello World!\n"
     ]
    }
   ],
   "source": [
    "print(\"Hello World!\")"
   ]
  },
  {
   "cell_type": "code",
   "execution_count": null,
   "id": "db179248",
   "metadata": {},
   "outputs": [],
   "source": [
    "ten=input(\"nhap ten cua ban\")\n",
    "print(\"xin chao\", ten)"
   ]
  },
  {
   "cell_type": "code",
   "execution_count": null,
   "id": "d1ef073d",
   "metadata": {},
   "outputs": [],
   "source": [
    "a=int(input(\"nhap so thu nhat\"))\n",
    "b=int(input(\"nhap so thu hai\"))\n",
    "print(\"tong cua 2 so la\",a+b)\n",
    "print(\"hieu cua 2 so la\",a-b)\n",
    "print(\"tich cua 2 so la\",a*b)\n",
    "print(\"phan nguyen cua thuong 2 so la\",a//b)\n",
    "print(\"phan du cua thuong 2 so la\", a%b)\n",
    "print(\"ket qua chia thuc cua 2 so la\",round((a/b), 2))\n",
    "#round( phep toan, x): lam tron phep toan den so thap phan thu x#"
   ]
  },
  {
   "cell_type": "code",
   "execution_count": null,
   "id": "c4d4888b",
   "metadata": {},
   "outputs": [],
   "source": [
    "a1, b1, c1, a2, b2, a3 = map(int, input(\"Nhap 6 dau diem: \").split())\n",
    "\n",
    "print(\"diem trung binh la\", ((a1+b1+c1) + (a2+b2)*2 + a3*3)/10)"
   ]
  },
  {
   "cell_type": "code",
   "execution_count": 2,
   "id": "83fa4b07",
   "metadata": {},
   "outputs": [
    {
     "ename": "ValueError",
     "evalue": "invalid literal for int() with base 10: 'escape'",
     "output_type": "error",
     "traceback": [
      "\u001b[31m---------------------------------------------------------------------------\u001b[39m",
      "\u001b[31mValueError\u001b[39m                                Traceback (most recent call last)",
      "\u001b[36mCell\u001b[39m\u001b[36m \u001b[39m\u001b[32mIn[2]\u001b[39m\u001b[32m, line 1\u001b[39m\n\u001b[32m----> \u001b[39m\u001b[32m1\u001b[39m a, b=\u001b[38;5;28mmap\u001b[39m(\u001b[38;5;28mint\u001b[39m,\u001b[38;5;28minput\u001b[39m(\u001b[33m\"\u001b[39m\u001b[33mnhap a va b\u001b[39m\u001b[33m\"\u001b[39m).split())\n\u001b[32m      2\u001b[39m \u001b[38;5;28mprint\u001b[39m(\u001b[33m\"\u001b[39m\u001b[33ma^b=\u001b[39m\u001b[33m\"\u001b[39m, a**b)\n",
      "\u001b[31mValueError\u001b[39m: invalid literal for int() with base 10: 'escape'"
     ]
    }
   ],
   "source": [
    "a, b=map(int,input(\"nhap a va b\").split())\n",
    "print(\"a^b=\", a**b)"
   ]
  },
  {
   "cell_type": "code",
   "execution_count": null,
   "id": "b86132ad",
   "metadata": {},
   "outputs": [],
   "source": [
    "a=input(\"nhap ky tu thuong\")\n",
    "#ord() se dua ra ma ASCII cua ky tu duoc nhap, chr() nguoc lai se chuyen ma ASCII thanh ky tu#\n",
    "#khoang cach giua 1 ky tu hoa va ky tu thuong luon khong doi la 32 nen doan ord(\"ky tu hoa\")-ord(\"ky tu thuong\") co the thay bang - 32#\n",
    "print(ord(a), chr(ord(a) + ord(\"A\") - ord(\"a\")))"
   ]
  },
  {
   "cell_type": "code",
   "execution_count": null,
   "id": "ec57639f",
   "metadata": {},
   "outputs": [],
   "source": [
    "print(\"A=\",((13**2)*3)+5)\n",
    "print(\"B=\", 13**2*3+5)"
   ]
  },
  {
   "cell_type": "code",
   "execution_count": null,
   "id": "fc683014",
   "metadata": {},
   "outputs": [],
   "source": [
    "C=float(input(\"nhap nhiet do celsius\"))\n",
    "print(\"nhiet do farenheit la\", round(9/5*C+32,2))"
   ]
  },
  {
   "cell_type": "code",
   "execution_count": null,
   "id": "58c4be1e",
   "metadata": {},
   "outputs": [],
   "source": [
    "a=float(input(\"nhap gia chiec dong ho Movado\"))\n",
    "print(\"cai gia phai tra de mua chiec dong ho la\", round(a*1.3*1.1+10,2))"
   ]
  },
  {
   "cell_type": "code",
   "execution_count": null,
   "id": "33a70f4b",
   "metadata": {},
   "outputs": [],
   "source": [
    "ten=input(\"nhap ten 3 nguoi\").split()\n",
    "#co the dung [::-1] hoac .reverse() de dao nguoc thu tu cua danh sach#\n",
    "ten.reverse()\n",
    "#doan ma se bat dau dem tu 0#\n",
    "print(\"hi\", ten[0], \",\", ten[1], \"and\", ten[2])"
   ]
  },
  {
   "cell_type": "code",
   "execution_count": null,
   "id": "dfaaf6d9",
   "metadata": {},
   "outputs": [],
   "source": [
    "h, m=map(int,input(\"nhap so gio va so phut\").split())\n",
    "print(\"so giay la\", h*3600 + m*60)"
   ]
  },
  {
   "cell_type": "code",
   "execution_count": null,
   "id": "9cfa4e3d",
   "metadata": {},
   "outputs": [],
   "source": [
    "a=int(input(\"nhap do dai canh n\"))\n",
    "print(\"so luong mien dan can thiet la\", (a**2)*6)"
   ]
  },
  {
   "cell_type": "code",
   "execution_count": null,
   "id": "d7d4c0fe",
   "metadata": {},
   "outputs": [],
   "source": [
    "a, b=map(int,input('nhap 2 so nguyen duong a va b').split())\n",
    "print(\"hang don vi cua tich 2 so a va b la\", (a*b)%10)"
   ]
  },
  {
   "cell_type": "code",
   "execution_count": null,
   "id": "eb2d62d8",
   "metadata": {},
   "outputs": [],
   "source": [
    "hai_so=input('nhap 2 so a va b').split()\n",
    "hai_so.reverse()\n",
    "print('gia tri hoan doi giua 2 so a va b la', hai_so)"
   ]
  },
  {
   "cell_type": "code",
   "execution_count": null,
   "id": "81beae1f",
   "metadata": {},
   "outputs": [],
   "source": [
    "n=int(input(\"nhap so n\"))\n",
    "print(\"so sao thu n la\", 6*n*(n-1)+1)"
   ]
  },
  {
   "cell_type": "code",
   "execution_count": null,
   "id": "74f2f1e5",
   "metadata": {},
   "outputs": [],
   "source": [
    "print(\"Spring\\nSummer\\nAutumn\\nWinter\")"
   ]
  },
  {
   "cell_type": "code",
   "execution_count": null,
   "id": "a5ae40aa",
   "metadata": {},
   "outputs": [],
   "source": [
    "print(\"*\\n***\\n*****\")"
   ]
  },
  {
   "cell_type": "code",
   "execution_count": null,
   "id": "cf458262",
   "metadata": {},
   "outputs": [],
   "source": [
    "print(\"### # #   ### ###\")\n",
    "print(\" #  #  #   #   #\")\n",
    "print(\" #  #   #  #   #\")\n",
    "print(\" #  #  #   #   #\")\n",
    "print(\" #  # #    #   #\")"
   ]
  },
  {
   "cell_type": "code",
   "execution_count": null,
   "id": "51193171",
   "metadata": {},
   "outputs": [],
   "source": [
    "print(\"Monday\\nTuesday\\nWednesday\\nThursday\\nFriday\\nSatuday\\nSunday\")"
   ]
  },
  {
   "cell_type": "code",
   "execution_count": null,
   "id": "b334e046",
   "metadata": {},
   "outputs": [],
   "source": [
    "print(\"January\\nFebruary\\nMarch\\nApril\\nMay\\nJune\\nJuly\\nAugust\\nSeptember\\nOctober\\nNovember\\nDecember\")"
   ]
  },
  {
   "cell_type": "code",
   "execution_count": null,
   "id": "238d01f1",
   "metadata": {},
   "outputs": [],
   "source": [
    "print(\"Hello, world\\n\" * 10)"
   ]
  }
 ],
 "metadata": {
  "kernelspec": {
   "display_name": "Python 3",
   "language": "python",
   "name": "python3"
  },
  "language_info": {
   "codemirror_mode": {
    "name": "ipython",
    "version": 3
   },
   "file_extension": ".py",
   "mimetype": "text/x-python",
   "name": "python",
   "nbconvert_exporter": "python",
   "pygments_lexer": "ipython3",
   "version": "3.13.7"
  }
 },
 "nbformat": 4,
 "nbformat_minor": 5
}
