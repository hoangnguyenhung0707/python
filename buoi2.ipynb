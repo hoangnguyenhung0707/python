{
 "cells": [
  {
   "cell_type": "code",
   "execution_count": null,
   "id": "da2d8e8b",
   "metadata": {},
   "outputs": [],
   "source": [
    "a= int(input(\" nhap so nguyen n\"))\n",
    "print(2*a)"
   ]
  },
  {
   "cell_type": "code",
   "execution_count": null,
   "id": "68f3f24b",
   "metadata": {},
   "outputs": [],
   "source": [
    "a = float(input(\" nhap chieu rong a\"))\n",
    "b = float(input(\" nhap chieu dai b\"))\n",
    "print(\"phan dien tich con lai la\", round(a*b - 3.14*((a/2)**2), 2))"
   ]
  },
  {
   "cell_type": "code",
   "execution_count": null,
   "id": "32729010",
   "metadata": {},
   "outputs": [],
   "source": [
    "c=input(print(\"nhap ky tu\"))\n",
    "if c.isupper():\n",
    "    print(c.lower())\n",
    "else:\n",
    "    print(c.upper())"
   ]
  },
  {
   "cell_type": "code",
   "execution_count": null,
   "id": "95b322d0",
   "metadata": {},
   "outputs": [],
   "source": [
    "c= input(print(\"nhap ky tu c\"))\n",
    "if c.isupper():\n",
    "    print(\"c la ky tu alphabet\")\n",
    "else:\n",
    "    print(\"c khong phai la ky tu alphabet\")"
   ]
  },
  {
   "cell_type": "code",
   "execution_count": null,
   "id": "3ca6d23a",
   "metadata": {},
   "outputs": [],
   "source": [
    "c= input(print(\"nhap chu in hoa\"))\n",
    "if c ==\"A\":\n",
    "    print(\"truong hop dac biet\")\n",
    "else:\n",
    "    print(chr(ord(c)+31))"
   ]
  },
  {
   "cell_type": "code",
   "execution_count": null,
   "id": "95c5503a",
   "metadata": {},
   "outputs": [],
   "source": [
    "import math\n",
    "a, b, c= float(input(\"nhap so a\")), float(input(\"nhap so b\")), float(input(\"nhap so c\"))\n",
    "\n",
    "tamgiac= a + b > c and a + c > b and b + c > a\n",
    "\n",
    "if tamgiac:\n",
    "    ncv= (a + b + c)/2\n",
    "    area= math.sqrt(ncv * (ncv -a ) * (ncv - b) * (ncv -c ))\n",
    "    print(round(area,1)) #phai dat ,n trong vong cua round#\n",
    "else:\n",
    "    print(\"khong phai tam giac\")\n"
   ]
  },
  {
   "cell_type": "code",
   "execution_count": null,
   "id": "9de0732c",
   "metadata": {},
   "outputs": [],
   "source": [
    "n = input(\"nhap day\")\n",
    "\n",
    "if len(n) >= 20:\n",
    "    print(n[4], n[8])\n",
    "else:\n",
    "    print(\"khong du so luong ky tu\")"
   ]
  },
  {
   "cell_type": "code",
   "execution_count": null,
   "id": "e7c4df2e",
   "metadata": {},
   "outputs": [],
   "source": [
    "ho_ten = input(\"ten chu ho: \")\n",
    "thang_truoc = int(input(\"chi so thang truoc: \"))\n",
    "thang_nay = int(input(\"chi so thang nay: \"))\n",
    "\n",
    "san_luong = thang_nay - thang_truoc \n",
    "\n",
    "print(\"Ho va ten:\", ho_ten)\n",
    "\n",
    "if 0 <= san_luong <= 50:\n",
    "    print(\"Tien phai tra la:\", (san_luong * 1984)*1.08)\n",
    "elif 51 <= san_luong <= 100:\n",
    "    print(\"Tien phai tra la:\", (50 * 1984 + (san_luong - 50) * 2050)*1.08)\n",
    "elif 101 <= san_luong <= 200:\n",
    "    print(\"Tien phai tra la:\", (50 * 1984 + 50 * 2050 + (san_luong - 100) * 2380)*1.08)\n",
    "elif 201 <= san_luong <= 300:\n",
    "    print(\"Tien phai tra la:\", (50 * 1984 + 50 * 2050 + 100 * 2380 + (san_luong - 200) * 2998)*1.08)\n",
    "elif 301 <= san_luong <= 400:\n",
    "    print(\"Tien phai tra la:\", (50 * 1984 + 50 * 2050 + 100 * 2380 + 100 * 2998 + (san_luong - 300) * 3350)*1.08)\n",
    "else:\n",
    "    print(\"Tien phai tra la:\", (50 * 1984 + 50 * 2050 + 100 * 2380 + 100 * 2998 + 100 * 3350 + (san_luong - 400) * 3460)*1.08)\n"
   ]
  }
 ],
 "metadata": {
  "language_info": {
   "name": "python"
  }
 },
 "nbformat": 4,
 "nbformat_minor": 5
}
